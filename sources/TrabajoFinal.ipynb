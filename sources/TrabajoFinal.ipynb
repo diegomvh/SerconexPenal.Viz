{
 "cells": [
  {
   "cell_type": "markdown",
   "metadata": {},
   "source": [
    "### Trabajo Final Curso de Posgrado \n",
    "# Visualización de Información\n",
    "#### Silvia Castro\n",
    "\n",
    "# Distribucion de causas penales\n",
    "#### Diego van Haaster"
   ]
  },
  {
   "cell_type": "markdown",
   "metadata": {},
   "source": [
    "## Contexto - Serconex Penal\n",
    "\n",
    "> Con el objetivo de unificar y mejorar la gestión de notificaciones en el fuero penal, la justicia de la provincia Chubut puso en marcha un sistema informatico de notificaciones digitales con el nombre de Serconex Penal.\n",
    "\n",
    "#### Entre los principales objetivos de Serconex Penal se encuentran:\n",
    "\n",
    "* Unificación de procesos en las notificaciones en toda la provincia.\n",
    "* Uniformidad de acceso por parte de los abogados particulares, Ministerios Públicos y auxiliares de justicia.\n",
    "* Mejora el seguimiento y auditoría de los procesos de notificación\n",
    "* Reducción de costos y tiempos por procesos completamente digitales.\n",
    "\n",
    "[Serconex Penal](http://www.juschubut.gov.ar/index.php/component/content/article/47-informatica/885-serconex-penal)\n",
    "\n",
    "#### Proceso de notificacion\n",
    "\n",
    "El proceso de notificación es simplemente la acción de liberar un documento que comunica a una persona vinculada a una causa judicial de actos y/o determinaciones, como fijaciones de audiencia, citaciones a comparecencia, pedidos de los detenidos, etc. que ocurren en el marco de dicha causa.\n",
    "\n",
    "Estos documentos encuentran su camino hasta el destinatario final gracias al domicilio que el actor fija para recibir las notificaciones y cuando un documento llega al domicilio fijado la oficina judicial (organismo judicial encargado de la notificación) recibe el acuso de recibido y concluye que la persona fue debidamente notificada.\n",
    "\n",
    "Junto con el domicilio, también la forma y el momento en que la persona se vincula a la causa determinan la manera en que la oficina judicial confecciona y emite los documentos a los actores del proceso penal.\n",
    "\n",
    "##### Problemáticas\n",
    "\n",
    "Existen varios casos excepcionales que pueden afectar el correcto flujo del proceso de notificación pero entre las dos mas comunes se encuentran: **Que pasa si el domicilio no esta correctamente fijado?** y **Que ocurre si la persona a notificar no se encuentra disponible?**.\n",
    "\n",
    "Actualmente el proceso de comunicación se realiza vía correo electrónico y las oficinas judiciales envían los documentos como un adjuntos. Para controlar las dos problemáticas planteadas se determino que el domicilio electrónico de un actor queda constituido en una cuenta de correo gestionada por la justicia y dicha cuenta es de consulta obligatoria por los actores del proceso penal.\n",
    "\n",
    "El uso del correo funciona relativamente bien para el caso en que se tenga que notificar a ministerios públicos, donde cada oficina que deba ser notificada con su staff de abogados tiene asignada una cuenta de correos que hace referencia a una mesa de entradas y son los administrativos los encargados de distribuir los impresos de los documentos que llegan a dicha cuenta. De este modo las cuentas se configuran en las maquinas de varios administrativos y es resposabilidad de los mismos que exista por lo menos una persona que mire el cliente de correos. Por otro lado los abogados particulares que no se encuentran dentro de un ministerio deberan obtener una cuenta perteneciente al dominio de la justicia y gestionar la forma en que se aseguran que dicha cuenta sea consultada asiduamente.\n",
    "\n",
    "##### Como funciona Serconex Penal\n",
    "\n",
    "Luego de trabajar de esta manera, con correo electrónico, por considerable tiempo el sistema así planteado presenta inconvenientes en su auditoria y trazabilidad, hoy no es posible dar una respuesta fehaciente a quien vio la comunicación que fue diligenciada para un abogado.\n",
    "\n",
    "El sistema Serconex Penal surge con la premisa de que las comunicación son personales. Sobre estas bases provee a los actores o partes intervinientes en una causa judicial herramientas de autogestion, con las cuales pueden otorgar habilitaciones en favor de un tercero para ver y/o darse por comunicados dentro del proceso. Es responsabilidad del usuario a notificar asegurarse que la comunicación sea vista.\n",
    "\n",
    "De este modo el domicilio correctamente fijado se convierte en una cuenta de usuario dentro del sistema y se \n",
    "proveen las herramientas para determinar que ocurre cuando el notificado en una causa no se encuentra disponible."
   ]
  },
  {
   "cell_type": "markdown",
   "metadata": {},
   "source": [
    "## Esquema de habilitaciones\n",
    "\n",
    "Desde una perspectiva de diseño el esquema de habilitaciones que implementa el sistema debe contemplar la vinculacion de los usuarios a las causas por un determinado lapso de tiempo en el cual pueden ver las notificaciones. Estas vinculaciones pueden ser generadas bien por la oficina judicial que tramita la causa o bien por otro usuario que otorga permisos de visualizacion en favor de un tercero.\n",
    "\n",
    "En este esquema nuestro objeto protegido es la causa y la vision de la misma esta determinada por la relacion que se establece entre ella y el usuario en conjunto con la tipificacion de esa relacion.\n",
    "\n",
    "##### Modelo de habilitacion\n",
    "\n",
    "![Modelo](Images/modelo.png)\n",
    "\n",
    "En este modelo la relacion de los usuarios con las causas se realiza a traves de la tabla UsuarioCausas donde se deja constancia de la fecha desde la cual el usuario toma acceso a la causa y si la misma es otorgada por otro usuario mediante una habilitacion o por la oficina judicial cuando el campo habilitacion es nulo."
   ]
  },
  {
   "cell_type": "markdown",
   "metadata": {},
   "source": [
    "## Problemática de la solucion.\n",
    "\n",
    "La principal problematica que presenta la solucion esta dada por la felxibilidad y granularidad del esquema de habilitaciones que complica la administracion y puesta en marcha. Para garantizar el arranque exitoso es necesario generar todas las habilitaciones en los ministerios de manera tal que se respete su forma de trabajo, alli donde existe una mesa de entradas que recepciona comunicaciones virtualmente debe continuar existiendo (los usuarios a notificar deben habilitar a los administrativos de mesa de entradas); mientras que en los lugares que se conforman grupos de trabajo sin mesa de entradas esos grupos deben reflejarse en la nueva solucion (un usuario a notificar en conjunto con uno o dos administrativos atienden determinadas causas).\n",
    "\n",
    "Este problema de bootstraping se soluciona implementando un algoritmo que genere de forma automatica las habilitaciones y relevando por cada usuario como va a trabajar con sus administrativos. "
   ]
  },
  {
   "cell_type": "markdown",
   "metadata": {},
   "source": [
    "## Objetivos\n",
    "\n",
    "#### Encontrar patrones de comportamiento en la distribuccion de las causas dependiendo del tipo de usuario.\n",
    "Teniendo la informacion de como habilita un profecional a sus administrativos es posible eventualmente visualizar como trabajan los distintos ministerios (defensa y fiscalia) e incluso los abogados particulares.\n",
    "\n",
    "#### Encontrar usuario que utilicen el sistema de habilitaciones.\n",
    "En el arranque del sistema se generaron las habilitaciones automaticamente, igualmente las herramientas para generar las habilitaciones son parte del sistema, es deseable ver aquellos usuario que utilizan el sistema como fue diseñado.\n",
    "\n",
    "#### Determinar como se distribuyen las causas en el tiempo.\n",
    "Con las fechas desde y hasta en la vinculacion del usuario con la causa se pretende preservar la historia de las vinculaciones y usando correctamente esta informacion es posible navegar la historia de habilitaciones.\n",
    "\n",
    "#### Integrar la visualizacion al sistema Serconex Penal\n",
    "Como objetivo segundario no de la visualizacion propiamente, es deseable integrar el producido para la visualizacion dentro del mismo sistema de modo tal que los usuarios puedan observar rapidamente como distribuyen sus habilitaciones o como son afectados por las habilitaciones de otros usuarios."
   ]
  },
  {
   "cell_type": "markdown",
   "metadata": {},
   "source": [
    "## Datos crudos\n",
    "\n",
    "Los datos para la visualizacion se encuentran distribuidos en el esquema y requieren un trabajo previo de extraccion. Para realizar dicha extraccion se opto por reunir los datos mediante consultas SQL, determinar cuales son los datos relevantes y guardarlos en un formato CSV que posteriormente sera la fuente de datos para la visualizacion.\n",
    "\n",
    "#### Dataset\n",
    "\n",
    "Dato | Tipo | Descripcion\n",
    "--- | --- | ---\n",
    "*Habilitante* | Cadena | Documento del usuario habilitante o oficina judicial\n",
    "*Habilitado* | Cadena | Documento del usuario habilitado\n",
    "*Causa* | Cadena | Numero de causa a la que se vincula el habilitado\n",
    "*Localidad* | Cadena | Localidad donde se tramita la causa\n",
    "*Desde* | Fecha | Fecha desde la cual el habilitado puede ver las notificaciones\n",
    "*Hasta* | Fecha |Fecha hasta la cual el habilitado puede ver las notificaciones\n",
    "*Roles* | Entero |Roles del usuario habilitante\n",
    "\n",
    "Los roles estan codificados en un valor entero y se corresponden con los valores nominales de **administrador**, **defensa**, **delegado**, **fiscal**, **profesional** y **usuario**.\n",
    "\n",
    "Las localidades pueden ser las distintas localidades donde se tramitan causas judiciales, como **Trelew**,  **Rawson**, **Comodoro Rivadavia**, **Puerto Madryn**, **Esquel**, **Sarmiento**, etc."
   ]
  },
  {
   "cell_type": "markdown",
   "metadata": {},
   "source": [
    "## Visualizacion\n",
    "\n",
    "Viendo los datos y sus relaciones la idea de representar la informacion dentro de un grafo resulta practicamente natural, donde:\n",
    "\n",
    "* Los nodos son los usuarios\n",
    "* Los arcos son las causas habilitadas\n",
    "\n",
    "En base a los visto durante el curso se buscaron mejores reprecentaciones para los grafos y una buena alternativa resulta en utilizar **Chords Layouts**.\n",
    "\n",
    "[Hierarchical edge bundles](https://seeingcomplexity.wordpress.com/2011/02/05/hierarchical-edge-bundles/)"
   ]
  },
  {
   "cell_type": "markdown",
   "metadata": {},
   "source": [
    "## Herramientas\n",
    "\n",
    "#### Dataset\n",
    "Los datos fueron extraidos "
   ]
  },
  {
   "cell_type": "markdown",
   "metadata": {},
   "source": [
    "## Primeras aproximaciones\n",
    "\n",
    "Buscando dentro de los ejemplos presentados por la libreria se identifico un [ejemplo](http://mbostock.github.io/d3/talk/20111116/bundle.html) que luego de adaptarlo al dataset se obtuvo el siguiente resultado:\n",
    "\n",
    "![Los datos](Images/full.png)\n",
    "\n",
    "Se observan todas las causas visibles a un usuario que fueron o bien vinculadas por la oficina judicial (Trelew), o habilitadas por otro usuario en favor de un tercero.\n",
    "\n",
    "El primer problema detectado es la cantidad de arcos superpuestos, esto se debe a la granularidad de la habilitacion, cuando un usuario o la oficina judicial delega una habilitacion lo hace a nivel de causa. Pensando en esta problematica lo optimo es dividir la visualizacion en dos partes, por un lado las habilitaciones propiamente dicha y por otro la granularidad de las causas en cada habilitacion.\n",
    "\n",
    "Al enfocarnos solamente en las habilitaciones podemos reducir considerablemente el dataset (1.6Mb a 12Kb), aunque los arcos no representan las causas en si misma sino mas bien la accion de habilitar a un usuario ya se pueden observar algunas tendencias:\n",
    "\n",
    "![Lo que importa](Images/menos.png)\n",
    "\n",
    "Teniendo en mente el primer objetivo de detectar patrones en la distribucion de las causas es deseable armar clusters con los tipos de usuario correspondientes pretendiendo separa a grandes rasgos los usuarios que trabajan en los ministerios de los abogados particulares.\n",
    "\n",
    "Luego de armar los clusters obtenemos un grafico similar al sigiente:\n",
    "\n",
    "![Agrupados](Images/agrupados.png)\n",
    "\n",
    "Con los datos formando clusters ya podemos apreciar como la oficina judicial de Trelew habilita a varios usuarios y como entre ellos luego delegan las habilitaciones en favor de terceros. Los dos grandes grupos corresponen a los ministerios aunque se diferencia muy poco como organizan el trabajo internamente.\n",
    "\n",
    "Ordenando y jeraquizando a los usuarios dentro de un arbol de roles como el siguiente:\n",
    "\n",
    "Obtenemos una mejora sustancial en la forma en que se representa la informacion:\n",
    "\n",
    "![Agrupados](Images/problemas.png)\n",
    "\n",
    "Aunque la visualizacion no presenta claramente cuales son los roles de los usuario ya permite observar un patron de distribuccion de habilitaciones e incluso ayuda a detectar problemas. En los datos donde el grupo aislado sobre el margen derecho de tres usuarios parece no tener habilitaciones que salgan del grupo, luego de subsanar el error correspondiente en los datos se detecto que el problema estaba en el algoritmo de habilitacion automatica utilizado en el arranque del sistema.\n",
    "\n",
    "El proximo paso para obtener una buena representacion de las habilitaciones es representar mejor los roles de los usuarios en la visualizacion:"
   ]
  },
  {
   "cell_type": "markdown",
   "metadata": {},
   "source": [
    "## Demostracion funcional"
   ]
  },
  {
   "cell_type": "code",
   "execution_count": 1,
   "metadata": {
    "collapsed": false
   },
   "outputs": [
    {
     "data": {
      "text/html": [
       "<style>path.arc {\n",
       "  cursor: move;\n",
       "  fill: #fff;\n",
       "}\n",
       "\n",
       ".node {\n",
       "  font-size: 10px;\n",
       "}\n",
       "\n",
       ".node:hover {\n",
       "  fill: #1f77b4;\n",
       "}\n",
       "\n",
       ".link {\n",
       "  fill: none;\n",
       "  stroke: #1f77b4;\n",
       "  stroke-opacity: .4;\n",
       "  pointer-events: none;\n",
       "}\n",
       "\n",
       ".link.source, .link.target {\n",
       "  stroke-opacity: 1;\n",
       "  stroke-width: 2px;\n",
       "}\n",
       "\n",
       ".node.target {\n",
       "  fill: #d62728 !important;\n",
       "}\n",
       "\n",
       ".link.source {\n",
       "  stroke: #d62728;\n",
       "}\n",
       "\n",
       ".node.source {\n",
       "  fill: #2ca02c;\n",
       "}\n",
       "\n",
       ".link.target {\n",
       "  stroke: #2ca02c;\n",
       "}\n",
       "</style>"
      ],
      "text/plain": [
       "<IPython.core.display.HTML object>"
      ]
     },
     "execution_count": 1,
     "metadata": {},
     "output_type": "execute_result"
    }
   ],
   "source": [
    "from IPython.core.display import HTML\n",
    "def css_styling():\n",
    "    styles = open(\"./static/styles/styles.css\", \"r\").read()\n",
    "    return HTML(\"<style>\" + styles + \"</style>\")\n",
    "css_styling()"
   ]
  },
  {
   "cell_type": "code",
   "execution_count": 3,
   "metadata": {
    "collapsed": false
   },
   "outputs": [
    {
     "data": {
      "application/javascript": [
       "require.config({\n",
       "    baseUrl: 'static/js',\n",
       "    paths: {\n",
       "        d3: '//cdnjs.cloudflare.com/ajax/libs/d3/3.4.8/d3.min',\n",
       "        jquery: '//cdnjs.cloudflare.com/ajax/libs/jquery/1.11.3/jquery.min.js',\n",
       "        underscore: '//cdnjs.cloudflare.com/ajax/libs/underscore.js/1.8.3/underscore-min.js'\n",
       "    }\n",
       "});\n",
       "element.append(\"<div id='chord'></div>\");\n",
       "require(['habilitaciones'], function(habilitaciones) {\n",
       "    habilitaciones.draw('#chord', \"habilitaciones.json\");\n",
       "})"
      ],
      "text/plain": [
       "<IPython.core.display.Javascript object>"
      ]
     },
     "metadata": {},
     "output_type": "display_data"
    }
   ],
   "source": [
    "%%javascript\n",
    "require.config({\n",
    "    baseUrl: 'static/js',\n",
    "    paths: {\n",
    "        d3: '//cdnjs.cloudflare.com/ajax/libs/d3/3.4.8/d3.min',\n",
    "        jquery: '//cdnjs.cloudflare.com/ajax/libs/jquery/1.11.3/jquery.min.js',\n",
    "        underscore: '//cdnjs.cloudflare.com/ajax/libs/underscore.js/1.8.3/underscore-min.js'\n",
    "    }\n",
    "});\n",
    "element.append(\"<div id='chord'></div>\");\n",
    "require(['habilitaciones'], function(habilitaciones) {\n",
    "    habilitaciones.draw('#chord', \"habilitaciones.json\");\n",
    "})"
   ]
  },
  {
   "cell_type": "markdown",
   "metadata": {},
   "source": [
    "## Lineas futuras"
   ]
  }
 ],
 "metadata": {
  "kernelspec": {
   "display_name": "Python 3",
   "language": "python",
   "name": "python3"
  },
  "language_info": {
   "codemirror_mode": {
    "name": "ipython",
    "version": 3
   },
   "file_extension": ".py",
   "mimetype": "text/x-python",
   "name": "python",
   "nbconvert_exporter": "python",
   "pygments_lexer": "ipython3",
   "version": "3.4.3"
  }
 },
 "nbformat": 4,
 "nbformat_minor": 0
}
