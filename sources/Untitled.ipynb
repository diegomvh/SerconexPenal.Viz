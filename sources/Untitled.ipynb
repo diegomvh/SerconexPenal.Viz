{
 "cells": [
  {
   "cell_type": "markdown",
   "metadata": {},
   "source": [
    "### Trabajo Final Curso de Posgrado \n",
    "## Visualización de Información\n",
    "#### Silvia Castro\n",
    "\n",
    "## Distribucion de causas penales\n",
    "#### Diego van Haaster"
   ]
  },
  {
   "cell_type": "markdown",
   "metadata": {},
   "source": [
    "## Contexto - Serconex Penal\n",
    "\n",
    "> Con el objetivo de unificar y mejorar la gestión de notificaciones en el fuero penal, la justicia de la provincia Chubut puso en marcha un sistema informatico de notificaciones digitales con el nombre de Serconex Penal.\n",
    "\n",
    "#### Entre los principales objetivos de Serconex Penal se encuentran:\n",
    "\n",
    "* Unificación de procesos en las notificaciones en toda la provincia.\n",
    "* Uniformidad de acceso por parte de los abogados particulares, Ministerios Públicos y auxiliares de justicia.\n",
    "* Mejora el seguimiento y auditoría de los procesos de notificación\n",
    "* Reducción de costos y tiempos por procesos completamente digitales.\n",
    "\n",
    "[Serconex Penal](http://www.juschubut.gov.ar/index.php/component/content/article/47-informatica/885-serconex-penal)\n",
    "\n",
    "#### Proceso de notificacion\n",
    "\n",
    "El proceso de notificación es simplemente la acción de liberar un documento que comunica a una persona vinculada a una causa judicial de actos y/o determinaciones, como fijaciones de audiencia, citaciones a comparecencia, pedidos de los detenidos, etc. que ocurren en el marco de dicha causa.\n",
    "\n",
    "Estos documentos encuentran su camino hasta el destinatario final gracias al domicilio que el actor fija para recibir las notificaciones y cuando un documento llega al domicilio fijado la oficina judicial (organismo judicial encargado de la notificación) recibe el acuso de recibido y concluye que la persona fue debidamente notificada.\n",
    "\n",
    "Junto con el domicilio, también la forma y el momento en que la persona se vincula a la causa determinan la manera en que la oficina judicial confecciona y emite los documentos a los actores del proceso penal.\n",
    "\n",
    "##### Problemáticas\n",
    "\n",
    "Existen varios casos excepcionales que pueden afectar el correcto flujo del proceso de notificación pero entre las dos mas comunes se encuentran: **Que pasa si el domicilio no esta correctamente fijado?** y **Que ocurre si la persona a notificar no se encuentra disponible?**.\n",
    "\n",
    "Actualmente el proceso de comunicación se realiza vía correo electrónico y las oficinas judiciales envían los documentos como un adjuntos. Para controlar las dos problemáticas planteadas se determino que el domicilio electrónico de un actor queda constituido en una cuenta de correo gestionada por la justicia y dicha cuenta es de consulta obligatoria por los actores del proceso penal.\n",
    "\n",
    "El uso del correo funciona relativamente bien para el caso en que se tenga que notificar a ministerios públicos, donde cada oficina que deba ser notificada con su staff de abogados tiene asignada una cuenta de correos que hace referencia a una mesa de entradas y son los administrativos los encargados de distribuir los impresos de los documentos que llegan a dicha cuenta. De este modo las cuentas se configuran en las maquinas de varios administrativos y es resposabilidad de los mismos que exista por lo menos una persona que mire el cliente de correos. Por otro lado los abogados particulares que no se encuentran dentro de un ministerio deberan obtener una cuenta perteneciente al dominio de la justicia y gestionar la forma en que se aseguran que dicha cuenta sea consultada asiduamente.\n",
    "\n",
    "##### Como funciona Serconex Penal\n",
    "\n",
    "Luego de funcionar de esta manera, con correo electrónico, por considerable tiempo el sistema así planteado presenta inconvenientes en su auditoria y trazabilidad, hoy no es posible dar una respuesta fehaciente a quien vio la comunicación que fue diligenciada para un abogado.\n",
    "\n",
    "El sistema Serconex Penal surge y hace fuerza en la premisa de que las comunicación son personales. Sobre estas bases provee a los actores o partes intervinientes en una causa judicial herramientas de autogestion, con las cuales pueden otorgar habilitaciones en favor de un tercero para ver y/o darse por comunicados dentro del proceso. Es responsabilidad del usuario a notificar asegurarse que la comunicación sea vista.\n",
    "\n",
    "De este modo el domicilio correctamente fijado se convierte en una cuenta de usuario dentro del sistema y se \n",
    "proveen las herramientas para determinar que ocurre cuando el notificado en una causa no se encuentra disponible."
   ]
  },
  {
   "cell_type": "markdown",
   "metadata": {},
   "source": [
    "## Proceso de notificacion"
   ]
  },
  {
   "cell_type": "markdown",
   "metadata": {},
   "source": [
    "Objetivo de la Visualización"
   ]
  },
  {
   "cell_type": "markdown",
   "metadata": {},
   "source": [
    "Datos para la Visualización"
   ]
  },
  {
   "cell_type": "markdown",
   "metadata": {},
   "source": [
    "Estructura de los Datos"
   ]
  },
  {
   "cell_type": "markdown",
   "metadata": {},
   "source": [
    "Clasificación"
   ]
  },
  {
   "cell_type": "markdown",
   "metadata": {},
   "source": [
    "![Los datos](Images/full.png)\n",
    "![Lo que importa](Images/menos.png)\n",
    "![Agrupados](Images/agrupados.png)"
   ]
  },
  {
   "cell_type": "code",
   "execution_count": 2,
   "metadata": {
    "collapsed": false
   },
   "outputs": [
    {
     "data": {
      "application/javascript": [
       "require.config({\n",
       "    baseUrl: 'static/js',\n",
       "    paths: {\n",
       "        d3: '//cdnjs.cloudflare.com/ajax/libs/d3/3.4.8/d3.min',\n",
       "        jquery: '//cdnjs.cloudflare.com/ajax/libs/jquery/1.11.3/jquery.min.js',\n",
       "        underscore: '//cdnjs.cloudflare.com/ajax/libs/underscore.js/1.8.3/underscore-min.js'\n",
       "    }\n",
       "});\n",
       "require(['main'], function(main) {\n",
       "    console.log(main);\n",
       "})"
      ],
      "text/plain": [
       "<IPython.core.display.Javascript object>"
      ]
     },
     "metadata": {},
     "output_type": "display_data"
    }
   ],
   "source": [
    "%%javascript\n",
    "require.config({\n",
    "    baseUrl: 'static/js',\n",
    "    paths: {\n",
    "        d3: '//cdnjs.cloudflare.com/ajax/libs/d3/3.4.8/d3.min',\n",
    "        jquery: '//cdnjs.cloudflare.com/ajax/libs/jquery/1.11.3/jquery.min.js',\n",
    "        underscore: '//cdnjs.cloudflare.com/ajax/libs/underscore.js/1.8.3/underscore-min.js'\n",
    "    }\n",
    "});\n",
    "require(['main'], function(main) {\n",
    "    console.log(main);\n",
    "})"
   ]
  },
  {
   "cell_type": "markdown",
   "metadata": {},
   "source": [
    "Visualizaciones a futuro"
   ]
  }
 ],
 "metadata": {
  "kernelspec": {
   "display_name": "Python 3",
   "language": "python",
   "name": "python3"
  },
  "language_info": {
   "codemirror_mode": {
    "name": "ipython",
    "version": 3
   },
   "file_extension": ".py",
   "mimetype": "text/x-python",
   "name": "python",
   "nbconvert_exporter": "python",
   "pygments_lexer": "ipython3",
   "version": "3.5.0"
  }
 },
 "nbformat": 4,
 "nbformat_minor": 0
}
